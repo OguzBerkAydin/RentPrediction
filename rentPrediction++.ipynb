{
  "cells": [
    {
      "cell_type": "markdown",
      "metadata": {
        "id": "view-in-github",
        "colab_type": "text"
      },
      "source": [
        "<a href=\"https://colab.research.google.com/github/OguzBerkAydin/RentPrediction/blob/main/rentPrediction%2B%2B.ipynb\" target=\"_parent\"><img src=\"https://colab.research.google.com/assets/colab-badge.svg\" alt=\"Open In Colab\"/></a>"
      ]
    },
    {
      "cell_type": "code",
      "execution_count": null,
      "metadata": {
        "id": "LTx8XCUngqK1"
      },
      "outputs": [],
      "source": [
        "import pandas as pd\n",
        "import numpy as np"
      ]
    },
    {
      "cell_type": "code",
      "execution_count": null,
      "metadata": {
        "colab": {
          "base_uri": "https://localhost:8080/"
        },
        "id": "FDIVBDrRvGaJ",
        "outputId": "10fa2512-deaa-4d41-81c5-5f455ffdc9ea"
      },
      "outputs": [
        {
          "name": "stdout",
          "output_type": "stream",
          "text": [
            "Drive already mounted at /content/drive; to attempt to forcibly remount, call drive.mount(\"/content/drive\", force_remount=True).\n"
          ]
        }
      ],
      "source": [
        "from google.colab import drive\n",
        "drive.mount('/content/drive')"
      ]
    },
    {
      "cell_type": "code",
      "execution_count": null,
      "metadata": {
        "id": "zooY0szeg6Bz"
      },
      "outputs": [],
      "source": [
        "data = pd.read_csv(\"/content/drive/MyDrive/evkiratahmin/housing.csv\")"
      ]
    },
    {
      "cell_type": "code",
      "execution_count": null,
      "metadata": {
        "id": "PUkf7v7wg7aU"
      },
      "outputs": [],
      "source": [
        "data.dropna(inplace=True)"
      ]
    },
    {
      "cell_type": "code",
      "execution_count": null,
      "metadata": {
        "colab": {
          "base_uri": "https://localhost:8080/"
        },
        "id": "J6hATcF2hJQC",
        "outputId": "df71d88d-c1ca-4bf4-d3aa-9a8c3dbf22c9"
      },
      "outputs": [
        {
          "output_type": "stream",
          "name": "stdout",
          "text": [
            "<class 'pandas.core.frame.DataFrame'>\n",
            "Int64Index: 20433 entries, 0 to 20639\n",
            "Data columns (total 10 columns):\n",
            " #   Column              Non-Null Count  Dtype  \n",
            "---  ------              --------------  -----  \n",
            " 0   longitude           20433 non-null  float64\n",
            " 1   latitude            20433 non-null  float64\n",
            " 2   housing_median_age  20433 non-null  float64\n",
            " 3   total_rooms         20433 non-null  float64\n",
            " 4   total_bedrooms      20433 non-null  float64\n",
            " 5   population          20433 non-null  float64\n",
            " 6   households          20433 non-null  float64\n",
            " 7   median_income       20433 non-null  float64\n",
            " 8   median_house_value  20433 non-null  float64\n",
            " 9   ocean_proximity     20433 non-null  object \n",
            "dtypes: float64(9), object(1)\n",
            "memory usage: 1.7+ MB\n"
          ]
        }
      ],
      "source": [
        "data.info()"
      ]
    },
    {
      "cell_type": "code",
      "execution_count": null,
      "metadata": {
        "id": "pRxy94TqhKrF"
      },
      "outputs": [],
      "source": [
        "def remove_outliers(df, column):\n",
        "    Q1 = df[column].quantile(0.25)\n",
        "    Q3 = df[column].quantile(0.75)\n",
        "    IQR = Q3 - Q1\n",
        "    lower_bound = Q1 - 1.5 * IQR\n",
        "    upper_bound = Q3 + 1.5 * IQR\n",
        "    df = df[(df[column] >= lower_bound) & (df[column] <= upper_bound)]\n",
        "    return df\n",
        "\n",
        "columns = [\"housing_median_age\", \"total_rooms\", \"total_bedrooms\", \"population\", \"households\"]\n",
        "for column in columns:\n",
        "    data = remove_outliers(data, column)"
      ]
    },
    {
      "cell_type": "code",
      "execution_count": null,
      "metadata": {
        "colab": {
          "base_uri": "https://localhost:8080/"
        },
        "id": "xlckd3B8hTFZ",
        "outputId": "3cb53aff-33e2-4614-a57c-bbdd3a2f7df6"
      },
      "outputs": [
        {
          "output_type": "stream",
          "name": "stdout",
          "text": [
            "<class 'pandas.core.frame.DataFrame'>\n",
            "Int64Index: 17941 entries, 0 to 20639\n",
            "Data columns (total 10 columns):\n",
            " #   Column              Non-Null Count  Dtype  \n",
            "---  ------              --------------  -----  \n",
            " 0   longitude           17941 non-null  float64\n",
            " 1   latitude            17941 non-null  float64\n",
            " 2   housing_median_age  17941 non-null  float64\n",
            " 3   total_rooms         17941 non-null  float64\n",
            " 4   total_bedrooms      17941 non-null  float64\n",
            " 5   population          17941 non-null  float64\n",
            " 6   households          17941 non-null  float64\n",
            " 7   median_income       17941 non-null  float64\n",
            " 8   median_house_value  17941 non-null  float64\n",
            " 9   ocean_proximity     17941 non-null  object \n",
            "dtypes: float64(9), object(1)\n",
            "memory usage: 1.5+ MB\n"
          ]
        }
      ],
      "source": [
        "data.info()"
      ]
    },
    {
      "cell_type": "code",
      "execution_count": null,
      "metadata": {
        "id": "WveTVhlBhVFi"
      },
      "outputs": [],
      "source": [
        "data = pd.get_dummies(data, columns=[\"ocean_proximity\"])"
      ]
    },
    {
      "cell_type": "code",
      "execution_count": null,
      "metadata": {
        "colab": {
          "base_uri": "https://localhost:8080/"
        },
        "id": "SUN5C3_2hac7",
        "outputId": "b5635d50-d10a-46f5-94d6-c9fbf91a6e12"
      },
      "outputs": [
        {
          "output_type": "stream",
          "name": "stdout",
          "text": [
            "<class 'pandas.core.frame.DataFrame'>\n",
            "Int64Index: 17941 entries, 0 to 20639\n",
            "Data columns (total 14 columns):\n",
            " #   Column                      Non-Null Count  Dtype  \n",
            "---  ------                      --------------  -----  \n",
            " 0   longitude                   17941 non-null  float64\n",
            " 1   latitude                    17941 non-null  float64\n",
            " 2   housing_median_age          17941 non-null  float64\n",
            " 3   total_rooms                 17941 non-null  float64\n",
            " 4   total_bedrooms              17941 non-null  float64\n",
            " 5   population                  17941 non-null  float64\n",
            " 6   households                  17941 non-null  float64\n",
            " 7   median_income               17941 non-null  float64\n",
            " 8   median_house_value          17941 non-null  float64\n",
            " 9   ocean_proximity_<1H OCEAN   17941 non-null  uint8  \n",
            " 10  ocean_proximity_INLAND      17941 non-null  uint8  \n",
            " 11  ocean_proximity_ISLAND      17941 non-null  uint8  \n",
            " 12  ocean_proximity_NEAR BAY    17941 non-null  uint8  \n",
            " 13  ocean_proximity_NEAR OCEAN  17941 non-null  uint8  \n",
            "dtypes: float64(9), uint8(5)\n",
            "memory usage: 1.5 MB\n"
          ]
        }
      ],
      "source": [
        "data.info()"
      ]
    },
    {
      "cell_type": "code",
      "execution_count": null,
      "metadata": {
        "colab": {
          "base_uri": "https://localhost:8080/"
        },
        "id": "xEVuKTs5hczE",
        "outputId": "770e74a9-644f-49bd-9376-db0e1300063b"
      },
      "outputs": [
        {
          "output_type": "execute_result",
          "data": {
            "text/plain": [
              "0    17936\n",
              "1        5\n",
              "Name: ocean_proximity_ISLAND, dtype: int64"
            ]
          },
          "metadata": {},
          "execution_count": 9
        }
      ],
      "source": [
        "data.ocean_proximity_ISLAND.value_counts()"
      ]
    },
    {
      "cell_type": "code",
      "execution_count": null,
      "metadata": {
        "id": "lbH5mNpBh61G"
      },
      "outputs": [],
      "source": [
        "X = data.drop(\"median_house_value\", axis = 1)\n",
        "y = data[\"median_house_value\"]"
      ]
    },
    {
      "cell_type": "code",
      "execution_count": null,
      "metadata": {
        "id": "dvJZ3YeoiKuZ"
      },
      "outputs": [],
      "source": [
        "from sklearn.model_selection import train_test_split\n",
        "X_train, X_test, y_train, y_test = train_test_split(X, y, test_size = 0.3, random_state=42)"
      ]
    },
    {
      "cell_type": "code",
      "execution_count": null,
      "metadata": {
        "id": "mppmaQPliL6b"
      },
      "outputs": [],
      "source": [
        "from sklearn.tree import DecisionTreeRegressor\n",
        "dt_model = DecisionTreeRegressor()"
      ]
    },
    {
      "cell_type": "code",
      "execution_count": null,
      "metadata": {
        "colab": {
          "base_uri": "https://localhost:8080/",
          "height": 75
        },
        "id": "d-NlJyPTiRlL",
        "outputId": "783b0c2d-303f-486b-b4b2-f87484d979b1"
      },
      "outputs": [
        {
          "data": {
            "text/html": [
              "<style>#sk-container-id-4 {color: black;background-color: white;}#sk-container-id-4 pre{padding: 0;}#sk-container-id-4 div.sk-toggleable {background-color: white;}#sk-container-id-4 label.sk-toggleable__label {cursor: pointer;display: block;width: 100%;margin-bottom: 0;padding: 0.3em;box-sizing: border-box;text-align: center;}#sk-container-id-4 label.sk-toggleable__label-arrow:before {content: \"▸\";float: left;margin-right: 0.25em;color: #696969;}#sk-container-id-4 label.sk-toggleable__label-arrow:hover:before {color: black;}#sk-container-id-4 div.sk-estimator:hover label.sk-toggleable__label-arrow:before {color: black;}#sk-container-id-4 div.sk-toggleable__content {max-height: 0;max-width: 0;overflow: hidden;text-align: left;background-color: #f0f8ff;}#sk-container-id-4 div.sk-toggleable__content pre {margin: 0.2em;color: black;border-radius: 0.25em;background-color: #f0f8ff;}#sk-container-id-4 input.sk-toggleable__control:checked~div.sk-toggleable__content {max-height: 200px;max-width: 100%;overflow: auto;}#sk-container-id-4 input.sk-toggleable__control:checked~label.sk-toggleable__label-arrow:before {content: \"▾\";}#sk-container-id-4 div.sk-estimator input.sk-toggleable__control:checked~label.sk-toggleable__label {background-color: #d4ebff;}#sk-container-id-4 div.sk-label input.sk-toggleable__control:checked~label.sk-toggleable__label {background-color: #d4ebff;}#sk-container-id-4 input.sk-hidden--visually {border: 0;clip: rect(1px 1px 1px 1px);clip: rect(1px, 1px, 1px, 1px);height: 1px;margin: -1px;overflow: hidden;padding: 0;position: absolute;width: 1px;}#sk-container-id-4 div.sk-estimator {font-family: monospace;background-color: #f0f8ff;border: 1px dotted black;border-radius: 0.25em;box-sizing: border-box;margin-bottom: 0.5em;}#sk-container-id-4 div.sk-estimator:hover {background-color: #d4ebff;}#sk-container-id-4 div.sk-parallel-item::after {content: \"\";width: 100%;border-bottom: 1px solid gray;flex-grow: 1;}#sk-container-id-4 div.sk-label:hover label.sk-toggleable__label {background-color: #d4ebff;}#sk-container-id-4 div.sk-serial::before {content: \"\";position: absolute;border-left: 1px solid gray;box-sizing: border-box;top: 0;bottom: 0;left: 50%;z-index: 0;}#sk-container-id-4 div.sk-serial {display: flex;flex-direction: column;align-items: center;background-color: white;padding-right: 0.2em;padding-left: 0.2em;position: relative;}#sk-container-id-4 div.sk-item {position: relative;z-index: 1;}#sk-container-id-4 div.sk-parallel {display: flex;align-items: stretch;justify-content: center;background-color: white;position: relative;}#sk-container-id-4 div.sk-item::before, #sk-container-id-4 div.sk-parallel-item::before {content: \"\";position: absolute;border-left: 1px solid gray;box-sizing: border-box;top: 0;bottom: 0;left: 50%;z-index: -1;}#sk-container-id-4 div.sk-parallel-item {display: flex;flex-direction: column;z-index: 1;position: relative;background-color: white;}#sk-container-id-4 div.sk-parallel-item:first-child::after {align-self: flex-end;width: 50%;}#sk-container-id-4 div.sk-parallel-item:last-child::after {align-self: flex-start;width: 50%;}#sk-container-id-4 div.sk-parallel-item:only-child::after {width: 0;}#sk-container-id-4 div.sk-dashed-wrapped {border: 1px dashed gray;margin: 0 0.4em 0.5em 0.4em;box-sizing: border-box;padding-bottom: 0.4em;background-color: white;}#sk-container-id-4 div.sk-label label {font-family: monospace;font-weight: bold;display: inline-block;line-height: 1.2em;}#sk-container-id-4 div.sk-label-container {text-align: center;}#sk-container-id-4 div.sk-container {/* jupyter's `normalize.less` sets `[hidden] { display: none; }` but bootstrap.min.css set `[hidden] { display: none !important; }` so we also need the `!important` here to be able to override the default hidden behavior on the sphinx rendered scikit-learn.org. See: https://github.com/scikit-learn/scikit-learn/issues/21755 */display: inline-block !important;position: relative;}#sk-container-id-4 div.sk-text-repr-fallback {display: none;}</style><div id=\"sk-container-id-4\" class=\"sk-top-container\"><div class=\"sk-text-repr-fallback\"><pre>DecisionTreeRegressor()</pre><b>In a Jupyter environment, please rerun this cell to show the HTML representation or trust the notebook. <br />On GitHub, the HTML representation is unable to render, please try loading this page with nbviewer.org.</b></div><div class=\"sk-container\" hidden><div class=\"sk-item\"><div class=\"sk-estimator sk-toggleable\"><input class=\"sk-toggleable__control sk-hidden--visually\" id=\"sk-estimator-id-4\" type=\"checkbox\" checked><label for=\"sk-estimator-id-4\" class=\"sk-toggleable__label sk-toggleable__label-arrow\">DecisionTreeRegressor</label><div class=\"sk-toggleable__content\"><pre>DecisionTreeRegressor()</pre></div></div></div></div></div>"
            ],
            "text/plain": [
              "DecisionTreeRegressor()"
            ]
          },
          "execution_count": 41,
          "metadata": {},
          "output_type": "execute_result"
        }
      ],
      "source": [
        "dt_model.fit(X_train,y_train)"
      ]
    },
    {
      "cell_type": "code",
      "execution_count": null,
      "metadata": {
        "id": "mnwxNrVJiqFI"
      },
      "outputs": [],
      "source": [
        "y_pred = dt_model.predict(X_test)"
      ]
    },
    {
      "cell_type": "code",
      "execution_count": null,
      "metadata": {
        "id": "IUe40Qemiwns"
      },
      "outputs": [],
      "source": [
        "dt_reg_score = dt_model.score(X_test,y_test)"
      ]
    },
    {
      "cell_type": "code",
      "execution_count": null,
      "metadata": {
        "colab": {
          "base_uri": "https://localhost:8080/"
        },
        "id": "Et0Mh-Yti8Rl",
        "outputId": "52717ad3-99a4-4048-dd97-e44cf4243488"
      },
      "outputs": [
        {
          "data": {
            "text/plain": [
              "0.637330901388066"
            ]
          },
          "execution_count": 44,
          "metadata": {},
          "output_type": "execute_result"
        }
      ],
      "source": [
        "dt_reg_score"
      ]
    },
    {
      "cell_type": "code",
      "execution_count": null,
      "metadata": {
        "id": "FbOO2EeEknjk"
      },
      "outputs": [],
      "source": [
        "from sklearn.metrics import mean_absolute_error\n",
        "dt_mae = mean_absolute_error(y_test,y_pred)"
      ]
    },
    {
      "cell_type": "code",
      "execution_count": null,
      "metadata": {
        "colab": {
          "base_uri": "https://localhost:8080/"
        },
        "id": "44YjNRHdlij6",
        "outputId": "b2a4c967-1809-4ccf-fc4e-f6d9dfdd1cdc"
      },
      "outputs": [
        {
          "data": {
            "text/plain": [
              "44912.56659855099"
            ]
          },
          "execution_count": 26,
          "metadata": {},
          "output_type": "execute_result"
        }
      ],
      "source": [
        "dt_mae"
      ]
    },
    {
      "cell_type": "code",
      "execution_count": null,
      "metadata": {
        "id": "qyATZN-SpIMv"
      },
      "outputs": [],
      "source": [
        "import pandas as pd\n",
        "import numpy as np\n",
        "import matplotlib.pyplot as plt\n",
        "from sklearn.model_selection import train_test_split, cross_val_score\n",
        "from sklearn.tree import DecisionTreeRegressor\n",
        "from sklearn.metrics import mean_absolute_error\n",
        "\n",
        "data = pd.read_csv(\"/content/drive/MyDrive/evkiratahmin/housing.csv\")\n",
        "\n",
        "data.dropna(inplace=True)\n",
        "\n",
        "\n",
        "def remove_outliers(df, column):\n",
        "    Q1 = df[column].quantile(0.25)\n",
        "    Q3 = df[column].quantile(0.75)\n",
        "    IQR = Q3 - Q1\n",
        "    lower_bound = Q1 - 1.5 * IQR\n",
        "    upper_bound = Q3 + 1.5 * IQR\n",
        "    df = df[(df[column] >= lower_bound) & (df[column] <= upper_bound)]\n",
        "    return df\n",
        "\n",
        "columns = [\"housing_median_age\", \"total_rooms\", \"total_bedrooms\", \"population\", \"households\"]\n",
        "for column in columns:\n",
        "    data = remove_outliers(data, column)\n",
        "\n",
        "\n",
        "data = pd.get_dummies(data, columns=[\"ocean_proximity\"])\n",
        "\n",
        "X = data.drop(\"median_house_value\", axis=1)\n",
        "y = data[\"median_house_value\"]\n",
        "\n",
        "X_train, X_test, y_train, y_test = train_test_split(X, y, test_size=0.3, random_state=42)\n",
        "\n"
      ]
    },
    {
      "cell_type": "code",
      "execution_count": null,
      "metadata": {
        "colab": {
          "base_uri": "https://localhost:8080/",
          "height": 484
        },
        "id": "h4zA3csf6-um",
        "outputId": "2c64189f-caf5-4fba-d557-fec0c7723792"
      },
      "outputs": [
        {
          "data": {
            "image/png": "[encoded data removed]",
            "text/plain": [
              "<Figure size 640x480 with 1 Axes>"
            ]
          },
          "metadata": {},
          "output_type": "display_data"
        },
        {
          "name": "stdout",
          "output_type": "stream",
          "text": [
            "Mean Absolute Error: 41427.738159352266\n"
          ]
        },
        {
          "data": {
            "text/plain": [
              "0.7000423077845499"
            ]
          },
          "execution_count": 77,
          "metadata": {},
          "output_type": "execute_result"
        }
      ],
      "source": [
        "train_scores = []\n",
        "test_scores = []\n",
        "\n",
        "for i in range(1, 11):\n",
        "    dt_model = DecisionTreeRegressor(max_depth=15, min_samples_split=15)\n",
        "    dt_model.fit(X_train, y_train)\n",
        "    train_scores.append(dt_model.score(X_train, y_train))\n",
        "    test_scores.append(dt_model.score(X_test, y_test))\n",
        "\n",
        "\n",
        "plt.plot(range(1, 11), train_scores, label='Training Score')\n",
        "plt.plot(range(1, 11), test_scores, label='Testing Score')\n",
        "plt.xlabel('Number of Iterations')\n",
        "plt.ylabel('Score')\n",
        "plt.legend()\n",
        "plt.show()\n",
        "\n",
        "y_pred = dt_model.predict(X_test)\n",
        "dt_reg_score = dt_model.score(X_test,y_test)\n",
        "\n",
        "dt_mae = mean_absolute_error(y_test, y_pred)\n",
        "print(\"Mean Absolute Error:\", dt_mae)\n",
        "dt_reg_score"
      ]
    },
    {
      "cell_type": "code",
      "execution_count": null,
      "metadata": {
        "colab": {
          "base_uri": "https://localhost:8080/"
        },
        "id": "WRDuisSZ2R8a",
        "outputId": "04374a60-5286-4180-cc45-f722de5f71f3"
      },
      "outputs": [
        {
          "name": "stdout",
          "output_type": "stream",
          "text": [
            "Cross-Validation R^2 Scores: [0.71052226 0.71793811 0.70352208 0.71243854 0.74525997]\n",
            "Mean R^2 Score: 0.7179361921952345\n",
            "Cross-Validation MAE Scores: [41877.46133051 38867.17239331 40080.63548575 39018.346982\n",
            " 38154.91364397]\n",
            "Mean MAE Score: 39599.7059671061\n"
          ]
        }
      ],
      "source": [
        "import pandas as pd\n",
        "import numpy as np\n",
        "from sklearn.model_selection import cross_val_score, KFold\n",
        "from sklearn.tree import DecisionTreeRegressor\n",
        "\n",
        "\n",
        "kf = KFold(n_splits=5, shuffle=True, random_state=42)\n",
        "\n",
        "\n",
        "dt_model = DecisionTreeRegressor(max_depth=15, min_samples_split=15)\n",
        "\n",
        "\n",
        "r2_scores = cross_val_score(dt_model, X, y, cv=kf, scoring='r2')\n",
        "\n",
        "\n",
        "mae_scores = cross_val_score(dt_model, X, y, cv=kf, scoring='neg_mean_absolute_error')\n",
        "\n",
        "\n",
        "print(\"Cross-Validation R^2 Scores:\", r2_scores)\n",
        "print(\"Mean R^2 Score:\", np.mean(r2_scores))\n",
        "\n",
        "print(\"Cross-Validation MAE Scores:\", -mae_scores)\n",
        "print(\"Mean MAE Score:\", np.mean(-mae_scores))\n"
      ]
    },
    {
      "cell_type": "code",
      "execution_count": null,
      "metadata": {
        "colab": {
          "base_uri": "https://localhost:8080/"
        },
        "id": "V4hKGGbf3gpl",
        "outputId": "37feee3a-47ce-4504-d5bc-38154ec44930"
      },
      "outputs": [
        {
          "name": "stdout",
          "output_type": "stream",
          "text": [
            "Fold 1: Eğitim Skoru = 0.9051, Test Skoru = 0.7108\n",
            "Fold 2: Eğitim Skoru = 0.9110, Test Skoru = 0.7157\n",
            "Fold 3: Eğitim Skoru = 0.9052, Test Skoru = 0.7081\n",
            "Fold 4: Eğitim Skoru = 0.9045, Test Skoru = 0.7092\n",
            "Fold 5: Eğitim Skoru = 0.9001, Test Skoru = 0.7444\n",
            "Ortalama Eğitim Skoru: 0.9051723914355596\n",
            "Ortalama Test Skoru: 0.7176234725914812\n",
            "Fold 1: MAE Eğitim Skoru = 65975.4441, MAE Test Skoru = 66837.3515\n",
            "Fold 2: MAE Eğitim Skoru = 66354.1539, MAE Test Skoru = 73897.1037\n",
            "Fold 3: MAE Eğitim Skoru = 65242.0469, MAE Test Skoru = 69606.9214\n",
            "Fold 4: MAE Eğitim Skoru = 67379.0163, MAE Test Skoru = 65926.6825\n",
            "Fold 5: MAE Eğitim Skoru = 67304.0374, MAE Test Skoru = 61374.0834\n",
            "Ortalama MAE Eğitim Skoru: 66450.93972145104\n",
            "Ortalama MAE Test Skoru: 67528.42849510306\n"
          ]
        }
      ],
      "source": [
        "import pandas as pd\n",
        "import numpy as np\n",
        "import matplotlib.pyplot as plt\n",
        "from sklearn.model_selection import train_test_split, cross_val_score, KFold\n",
        "from sklearn.tree import DecisionTreeRegressor\n",
        "\n",
        "kf = KFold(n_splits=5, shuffle=True, random_state=42)\n",
        "\n",
        "# DecisionTreeRegressor modelini oluşturma\n",
        "dt_model = DecisionTreeRegressor(max_depth=15, min_samples_split=15)\n",
        "\n",
        "# Cross-validation skorlarını almak için bir fonksiyon tanımlama\n",
        "def get_cross_val_scores(model, X, y, cv, scoring):\n",
        "    train_scores = []\n",
        "    test_scores = []\n",
        "\n",
        "    for train_index, test_index in cv.split(X):\n",
        "        X_train, X_test = X.iloc[train_index], X.iloc[test_index]\n",
        "        y_train, y_test = y.iloc[train_index], y.iloc[test_index]\n",
        "\n",
        "        model.fit(X_train, y_train)\n",
        "\n",
        "        train_score = model.score(X_train, y_train)\n",
        "        test_score = model.score(X_test, y_test)\n",
        "\n",
        "        train_scores.append(train_score)\n",
        "        test_scores.append(test_score)\n",
        "\n",
        "    return train_scores, test_scores\n",
        "\n",
        "# Cross-validation skorlarını al\n",
        "train_scores, test_scores = get_cross_val_scores(dt_model, X, y, kf, 'r2')\n",
        "\n",
        "# Her bir katman üzerindeki eğitim ve test skorlarını yazdırma\n",
        "for i, (train_score, test_score) in enumerate(zip(train_scores, test_scores), 1):\n",
        "    print(f\"Fold {i}: Eğitim Skoru = {train_score:.4f}, Test Skoru = {test_score:.4f}\")\n",
        "\n",
        "# Ortalama skorları yazdırma\n",
        "print(\"Ortalama Eğitim Skoru:\", np.mean(train_scores))\n",
        "print(\"Ortalama Test Skoru:\", np.mean(test_scores))\n",
        "\n",
        "\n",
        "# Cross-validation skorlarını almak için bir fonksiyon tanımlama (MAE için)\n",
        "def get_cross_val_mae_scores(model, X, y, cv):\n",
        "    train_maes = []\n",
        "    test_maes = []\n",
        "\n",
        "    for train_index, test_index in cv.split(X):\n",
        "        X_train, X_test = X.iloc[train_index], X.iloc[test_index]\n",
        "        y_train, y_test = y.iloc[train_index], y.iloc[test_index]\n",
        "\n",
        "        model.fit(X_train, y_train)\n",
        "\n",
        "        train_mae = -np.mean(cross_val_score(model, X_train, y_train,  scoring='neg_mean_absolute_error'))\n",
        "        test_mae = -np.mean(cross_val_score(model, X_test, y_test,  scoring='neg_mean_absolute_error'))\n",
        "\n",
        "        train_maes.append(train_mae)\n",
        "        test_maes.append(test_mae)\n",
        "\n",
        "    return train_maes, test_maes\n",
        "\n",
        "# Cross-validation MAE skorlarını al\n",
        "train_maes, test_maes = get_cross_val_mae_scores(dt_model, X, y, kf)\n",
        "\n",
        "# Her bir katman üzerindeki eğitim ve test MAE skorlarını yazdırma\n",
        "for i, (train_mae, test_mae) in enumerate(zip(train_maes, test_maes), 1):\n",
        "    print(f\"Fold {i}: MAE Eğitim Skoru = {train_mae:.4f}, MAE Test Skoru = {test_mae:.4f}\")\n",
        "\n",
        "# Ortalama MAE skorları yazdırma\n",
        "print(\"Ortalama MAE Eğitim Skoru:\", np.mean(train_maes))\n",
        "print(\"Ortalama MAE Test Skoru:\", np.mean(test_maes))\n"
      ]
    },
    {
      "cell_type": "code",
      "execution_count": null,
      "metadata": {
        "colab": {
          "base_uri": "https://localhost:8080/"
        },
        "id": "DkbSsByH45y7",
        "outputId": "839f76c4-1414-47f8-e502-eb970899016a"
      },
      "outputs": [
        {
          "name": "stdout",
          "output_type": "stream",
          "text": [
            "Fold 1: R^2 Eğitim Skoru = 0.9053, R^2 Test Skoru = 0.7058, MAE Eğitim Skoru = 22895.1582, MAE Test Skoru = 41792.7672\n",
            "Fold 2: R^2 Eğitim Skoru = 0.9110, R^2 Test Skoru = 0.7134, MAE Eğitim Skoru = 22655.3961, MAE Test Skoru = 39022.8117\n",
            "Fold 3: R^2 Eğitim Skoru = 0.9052, R^2 Test Skoru = 0.7108, MAE Eğitim Skoru = 23422.8892, MAE Test Skoru = 39998.3865\n",
            "Fold 4: R^2 Eğitim Skoru = 0.9045, R^2 Test Skoru = 0.7128, MAE Eğitim Skoru = 23527.2013, MAE Test Skoru = 39054.5359\n",
            "Fold 5: R^2 Eğitim Skoru = 0.9001, R^2 Test Skoru = 0.7464, MAE Eğitim Skoru = 23812.4318, MAE Test Skoru = 38064.4596\n",
            "Ortalama R^2 Eğitim Skoru: 0.9052063618120212\n",
            "Ortalama R^2 Test Skoru: 0.7178364439439054\n",
            "Ortalama MAE Eğitim Skoru: 23262.61532529257\n",
            "Ortalama MAE Test Skoru: 39586.59214704606\n"
          ]
        }
      ],
      "source": [
        "# K-fold cross-validation için KFold nesnesini oluşturma\n",
        "kf = KFold(n_splits=5, shuffle=True, random_state=42)\n",
        "\n",
        "# DecisionTreeRegressor modelini oluşturma\n",
        "dt_model = DecisionTreeRegressor(max_depth=15, min_samples_split=15)\n",
        "\n",
        "# Cross-validation skorlarını almak için bir fonksiyon tanımlama\n",
        "def get_cross_val_scores(model, X, y, cv):\n",
        "    train_scores = []\n",
        "    test_scores = []\n",
        "    train_maes = []\n",
        "    test_maes = []\n",
        "\n",
        "    for train_index, test_index in cv.split(X):\n",
        "        X_train, X_test = X.iloc[train_index], X.iloc[test_index]\n",
        "        y_train, y_test = y.iloc[train_index], y.iloc[test_index]\n",
        "\n",
        "        model.fit(X_train, y_train)\n",
        "\n",
        "        train_score = model.score(X_train, y_train)\n",
        "        test_score = model.score(X_test, y_test)\n",
        "\n",
        "        train_mae = mean_absolute_error(y_train, model.predict(X_train))\n",
        "        test_mae = mean_absolute_error(y_test, model.predict(X_test))\n",
        "\n",
        "        train_scores.append(train_score)\n",
        "        test_scores.append(test_score)\n",
        "        train_maes.append(train_mae)\n",
        "        test_maes.append(test_mae)\n",
        "\n",
        "    return train_scores, test_scores, train_maes, test_maes\n",
        "\n",
        "# Cross-validation skorlarını al\n",
        "train_scores, test_scores, train_maes, test_maes = get_cross_val_scores(dt_model, X, y, kf)\n",
        "\n",
        "# Her bir katman üzerindeki eğitim, test, MAE skorlarını yazdırma\n",
        "for i, (train_score, test_score, train_mae, test_mae) in enumerate(zip(train_scores, test_scores, train_maes, test_maes), 1):\n",
        "    print(f\"Fold {i}: R^2 Eğitim Skoru = {train_score:.4f}, R^2 Test Skoru = {test_score:.4f}, MAE Eğitim Skoru = {train_mae:.4f}, MAE Test Skoru = {test_mae:.4f}\")\n",
        "\n",
        "# Ortalama R^2 ve MAE skorları yazdırma\n",
        "print(\"Ortalama R^2 Eğitim Skoru:\", np.mean(train_scores))\n",
        "print(\"Ortalama R^2 Test Skoru:\", np.mean(test_scores))\n",
        "print(\"Ortalama MAE Eğitim Skoru:\", np.mean(train_maes))\n",
        "print(\"Ortalama MAE Test Skoru:\", np.mean(test_maes))"
      ]
    },
    {
      "cell_type": "code",
      "execution_count": null,
      "metadata": {
        "colab": {
          "base_uri": "https://localhost:8080/",
          "height": 807
        },
        "id": "aVD7aSHC9Scw",
        "outputId": "108eb37b-5569-4798-da4b-ef7f6061440a"
      },
      "outputs": [
        {
          "data": {
            "image/png": "[encoded data removed]",
            "text/plain": [
              "<Figure size 1200x800 with 2 Axes>"
            ]
          },
          "metadata": {},
          "output_type": "display_data"
        }
      ],
      "source": [
        "plt.figure(figsize=(12, 8))\n",
        "\n",
        "# R^2 Skorları\n",
        "plt.subplot(2, 1, 1)\n",
        "plt.plot(range(1, 6), train_scores, marker='o', label='R^2 Eğitim Skoru', color='blue')\n",
        "plt.plot(range(1, 6), test_scores, marker='o', label='R^2 Test Skoru', color='green')\n",
        "plt.title('R^2 Eğitim ve Test Skorları')\n",
        "plt.xlabel('Fold')\n",
        "plt.ylabel('R^2 Skoru')\n",
        "plt.legend()\n",
        "\n",
        "# MAE Skorları\n",
        "plt.subplot(2, 1, 2)\n",
        "plt.plot(range(1, 6), train_maes, marker='o', label='MAE Eğitim Skoru', color='blue')\n",
        "plt.plot(range(1, 6), test_maes, marker='o', label='MAE Test Skoru', color='green')\n",
        "plt.title('MAE Eğitim ve Test Skorları')\n",
        "plt.xlabel('Fold')\n",
        "plt.ylabel('MAE Skoru')\n",
        "plt.legend()\n",
        "\n",
        "plt.tight_layout()\n",
        "plt.show()"
      ]
    },
    {
      "cell_type": "code",
      "execution_count": null,
      "metadata": {
        "colab": {
          "base_uri": "https://localhost:8080/",
          "height": 807
        },
        "id": "1QGQw_9M90N2",
        "outputId": "30e21d8e-96a8-4d60-f81b-b3e620a18130"
      },
      "outputs": [
        {
          "output_type": "display_data",
          "data": {
            "text/plain": [
              "<Figure size 1200x800 with 2 Axes>"
            ],
            "image/png": "[encoded data removed]"
          },
          "metadata": {}
        }
      ],
      "source": [
        "from sklearn.ensemble import RandomForestRegressor\n",
        "from sklearn.model_selection import GridSearchCV\n",
        "from sklearn.ensemble import RandomForestRegressor\n",
        "import matplotlib.pyplot as plt\n",
        "from sklearn.model_selection import train_test_split, cross_val_score, KFold\n",
        "from sklearn.metrics import mean_absolute_error\n",
        "\n",
        "kf = KFold(n_splits=5, shuffle=True, random_state=42)\n",
        "\n",
        "\n",
        "rf_model = RandomForestRegressor(n_estimators=300, random_state=42,max_depth=30,min_samples_leaf=2,min_samples_split=2)\n",
        "\n",
        "# Cross-validation skorlarını almak için bir fonksiyon\n",
        "def get_cross_val_scores(model, X, y, cv):\n",
        "    train_scores = []\n",
        "    test_scores = []\n",
        "    train_maes = []\n",
        "    test_maes = []\n",
        "\n",
        "    for train_index, test_index in cv.split(X):\n",
        "        X_train, X_test = X.iloc[train_index], X.iloc[test_index]\n",
        "        y_train, y_test = y.iloc[train_index], y.iloc[test_index]\n",
        "\n",
        "        model.fit(X_train, y_train)\n",
        "\n",
        "        train_score = model.score(X_train, y_train)\n",
        "        test_score = model.score(X_test, y_test)\n",
        "\n",
        "        train_mae = mean_absolute_error(y_train, model.predict(X_train))\n",
        "        test_mae = mean_absolute_error(y_test, model.predict(X_test))\n",
        "\n",
        "        train_scores.append(train_score)\n",
        "        test_scores.append(test_score)\n",
        "        train_maes.append(train_mae)\n",
        "        test_maes.append(test_mae)\n",
        "\n",
        "    return train_scores, test_scores, train_maes, test_maes\n",
        "\n",
        "# Cross-validation skorlarını al\n",
        "train_scores_rf, test_scores_rf, train_maes_rf, test_maes_rf = get_cross_val_scores(rf_model, X, y, kf)\n",
        "\n",
        "# Grafik oluşturma\n",
        "plt.figure(figsize=(12, 8))\n",
        "\n",
        "# R^2 Skorları\n",
        "plt.subplot(2, 1, 1)\n",
        "plt.plot(range(1, 6), train_scores_rf, marker='o', label='R^2 Eğitim Skoru', color='blue')\n",
        "plt.plot(range(1, 6), test_scores_rf, marker='o', label='R^2 Test Skoru', color='green')\n",
        "plt.title('Random Forest - R^2 Eğitim ve Test Skorları')\n",
        "plt.xlabel('Fold')\n",
        "plt.ylabel('R^2 Skoru')\n",
        "plt.legend()\n",
        "\n",
        "# MAE Skorları\n",
        "plt.subplot(2, 1, 2)\n",
        "plt.plot(range(1, 6), train_maes_rf, marker='o', label='MAE Eğitim Skoru', color='blue')\n",
        "plt.plot(range(1, 6), test_maes_rf, marker='o', label='MAE Test Skoru', color='green')\n",
        "plt.title('Random Forest - MAE Eğitim ve Test Skorları')\n",
        "plt.xlabel('Fold')\n",
        "plt.ylabel('MAE Skoru')\n",
        "plt.legend()\n",
        "\n",
        "plt.tight_layout()\n",
        "plt.show()"
      ]
    },
    {
      "cell_type": "code",
      "source": [
        "results_df = pd.DataFrame({\n",
        "    'Fold': range(1, 6),\n",
        "    'Train R^2 Score': train_scores_rf,\n",
        "    'Test R^2 Score': test_scores_rf,\n",
        "    'Train MAE Score': train_maes_rf,\n",
        "    'Test MAE Score': test_maes_rf\n",
        "})\n",
        "\n",
        "# Display the results table\n",
        "print(results_df)"
      ],
      "metadata": {
        "colab": {
          "base_uri": "https://localhost:8080/"
        },
        "id": "NE12YsF7RUxH",
        "outputId": "ea4984f4-b688-43ab-e409-c5d01a081b26"
      },
      "execution_count": null,
      "outputs": [
        {
          "output_type": "stream",
          "name": "stdout",
          "text": [
            "   Fold  Train R^2 Score  Test R^2 Score  Train MAE Score  Test MAE Score\n",
            "0     1         0.959021        0.817626     14305.411509    32600.306681\n",
            "1     2         0.958359        0.827661     14423.840470    31435.352996\n",
            "2     3         0.959129        0.815581     14378.197790    32242.354424\n",
            "3     4         0.959534        0.808203     14350.422278    31729.736553\n",
            "4     5         0.958928        0.836451     14450.355171    30594.425391\n"
          ]
        }
      ]
    },
    {
      "cell_type": "code",
      "execution_count": null,
      "metadata": {
        "colab": {
          "base_uri": "https://localhost:8080/"
        },
        "id": "PbHoIgiy-I6d",
        "outputId": "8df71cee-1d57-45de-c237-e3da82fba470"
      },
      "outputs": [
        {
          "output_type": "stream",
          "name": "stdout",
          "text": [
            "El ile Tahmin Edilen Değer: 199416.17116402116\n"
          ]
        }
      ],
      "source": [
        "\n",
        "test_example = X_test.iloc[2:3]\n",
        "\n",
        "\n",
        "prediction = rf_model.predict(test_example)\n",
        "\n",
        "\n",
        "print(\"El ile Tahmin Edilen Değer:\", prediction[0])"
      ]
    },
    {
      "cell_type": "code",
      "execution_count": null,
      "metadata": {
        "colab": {
          "base_uri": "https://localhost:8080/",
          "height": 441
        },
        "id": "JXtc9C27A6R8",
        "outputId": "8b77bb87-d4f8-47ce-c57a-6401f45316d2"
      },
      "outputs": [
        {
          "data": {
            "text/html": [
              "\n",
              "  <div id=\"df-ee748ef9-af00-409d-abc6-7dbdf795758b\" class=\"colab-df-container\">\n",
              "    <div>\n",
              "<style scoped>\n",
              "    .dataframe tbody tr th:only-of-type {\n",
              "        vertical-align: middle;\n",
              "    }\n",
              "\n",
              "    .dataframe tbody tr th {\n",
              "        vertical-align: top;\n",
              "    }\n",
              "\n",
              "    .dataframe thead th {\n",
              "        text-align: right;\n",
              "    }\n",
              "</style>\n",
              "<table border=\"1\" class=\"dataframe\">\n",
              "  <thead>\n",
              "    <tr style=\"text-align: right;\">\n",
              "      <th></th>\n",
              "      <th>longitude</th>\n",
              "      <th>latitude</th>\n",
              "      <th>housing_median_age</th>\n",
              "      <th>total_rooms</th>\n",
              "      <th>total_bedrooms</th>\n",
              "      <th>population</th>\n",
              "      <th>households</th>\n",
              "      <th>median_income</th>\n",
              "      <th>ocean_proximity_&lt;1H OCEAN</th>\n",
              "      <th>ocean_proximity_INLAND</th>\n",
              "      <th>ocean_proximity_ISLAND</th>\n",
              "      <th>ocean_proximity_NEAR BAY</th>\n",
              "      <th>ocean_proximity_NEAR OCEAN</th>\n",
              "    </tr>\n",
              "  </thead>\n",
              "  <tbody>\n",
              "    <tr>\n",
              "      <th>13589</th>\n",
              "      <td>-117.30</td>\n",
              "      <td>34.12</td>\n",
              "      <td>50.0</td>\n",
              "      <td>1629.0</td>\n",
              "      <td>437.0</td>\n",
              "      <td>1581.0</td>\n",
              "      <td>394.0</td>\n",
              "      <td>2.2019</td>\n",
              "      <td>0</td>\n",
              "      <td>1</td>\n",
              "      <td>0</td>\n",
              "      <td>0</td>\n",
              "      <td>0</td>\n",
              "    </tr>\n",
              "    <tr>\n",
              "      <th>19849</th>\n",
              "      <td>-119.27</td>\n",
              "      <td>36.39</td>\n",
              "      <td>17.0</td>\n",
              "      <td>2076.0</td>\n",
              "      <td>350.0</td>\n",
              "      <td>998.0</td>\n",
              "      <td>340.0</td>\n",
              "      <td>4.3281</td>\n",
              "      <td>0</td>\n",
              "      <td>1</td>\n",
              "      <td>0</td>\n",
              "      <td>0</td>\n",
              "      <td>0</td>\n",
              "    </tr>\n",
              "    <tr>\n",
              "      <th>7868</th>\n",
              "      <td>-118.12</td>\n",
              "      <td>33.88</td>\n",
              "      <td>40.0</td>\n",
              "      <td>2344.0</td>\n",
              "      <td>571.0</td>\n",
              "      <td>1305.0</td>\n",
              "      <td>544.0</td>\n",
              "      <td>3.1923</td>\n",
              "      <td>1</td>\n",
              "      <td>0</td>\n",
              "      <td>0</td>\n",
              "      <td>0</td>\n",
              "      <td>0</td>\n",
              "    </tr>\n",
              "    <tr>\n",
              "      <th>13071</th>\n",
              "      <td>-121.31</td>\n",
              "      <td>38.57</td>\n",
              "      <td>9.0</td>\n",
              "      <td>2748.0</td>\n",
              "      <td>521.0</td>\n",
              "      <td>1663.0</td>\n",
              "      <td>565.0</td>\n",
              "      <td>3.5192</td>\n",
              "      <td>0</td>\n",
              "      <td>1</td>\n",
              "      <td>0</td>\n",
              "      <td>0</td>\n",
              "      <td>0</td>\n",
              "    </tr>\n",
              "    <tr>\n",
              "      <th>8863</th>\n",
              "      <td>-118.38</td>\n",
              "      <td>34.06</td>\n",
              "      <td>52.0</td>\n",
              "      <td>1311.0</td>\n",
              "      <td>217.0</td>\n",
              "      <td>578.0</td>\n",
              "      <td>205.0</td>\n",
              "      <td>7.6771</td>\n",
              "      <td>1</td>\n",
              "      <td>0</td>\n",
              "      <td>0</td>\n",
              "      <td>0</td>\n",
              "      <td>0</td>\n",
              "    </tr>\n",
              "    <tr>\n",
              "      <th>...</th>\n",
              "      <td>...</td>\n",
              "      <td>...</td>\n",
              "      <td>...</td>\n",
              "      <td>...</td>\n",
              "      <td>...</td>\n",
              "      <td>...</td>\n",
              "      <td>...</td>\n",
              "      <td>...</td>\n",
              "      <td>...</td>\n",
              "      <td>...</td>\n",
              "      <td>...</td>\n",
              "      <td>...</td>\n",
              "      <td>...</td>\n",
              "    </tr>\n",
              "    <tr>\n",
              "      <th>18557</th>\n",
              "      <td>-122.01</td>\n",
              "      <td>36.91</td>\n",
              "      <td>19.0</td>\n",
              "      <td>691.0</td>\n",
              "      <td>191.0</td>\n",
              "      <td>324.0</td>\n",
              "      <td>167.0</td>\n",
              "      <td>3.1312</td>\n",
              "      <td>0</td>\n",
              "      <td>0</td>\n",
              "      <td>0</td>\n",
              "      <td>0</td>\n",
              "      <td>1</td>\n",
              "    </tr>\n",
              "    <tr>\n",
              "      <th>2537</th>\n",
              "      <td>-122.01</td>\n",
              "      <td>39.74</td>\n",
              "      <td>20.0</td>\n",
              "      <td>2332.0</td>\n",
              "      <td>518.0</td>\n",
              "      <td>1856.0</td>\n",
              "      <td>495.0</td>\n",
              "      <td>2.1746</td>\n",
              "      <td>0</td>\n",
              "      <td>1</td>\n",
              "      <td>0</td>\n",
              "      <td>0</td>\n",
              "      <td>0</td>\n",
              "    </tr>\n",
              "    <tr>\n",
              "      <th>766</th>\n",
              "      <td>-122.10</td>\n",
              "      <td>37.66</td>\n",
              "      <td>33.0</td>\n",
              "      <td>1954.0</td>\n",
              "      <td>464.0</td>\n",
              "      <td>1293.0</td>\n",
              "      <td>448.0</td>\n",
              "      <td>3.0489</td>\n",
              "      <td>0</td>\n",
              "      <td>0</td>\n",
              "      <td>0</td>\n",
              "      <td>1</td>\n",
              "      <td>0</td>\n",
              "    </tr>\n",
              "    <tr>\n",
              "      <th>17628</th>\n",
              "      <td>-121.92</td>\n",
              "      <td>37.26</td>\n",
              "      <td>33.0</td>\n",
              "      <td>1306.0</td>\n",
              "      <td>259.0</td>\n",
              "      <td>762.0</td>\n",
              "      <td>237.0</td>\n",
              "      <td>4.5208</td>\n",
              "      <td>1</td>\n",
              "      <td>0</td>\n",
              "      <td>0</td>\n",
              "      <td>0</td>\n",
              "      <td>0</td>\n",
              "    </tr>\n",
              "    <tr>\n",
              "      <th>17114</th>\n",
              "      <td>-122.16</td>\n",
              "      <td>37.47</td>\n",
              "      <td>44.0</td>\n",
              "      <td>2581.0</td>\n",
              "      <td>437.0</td>\n",
              "      <td>1006.0</td>\n",
              "      <td>414.0</td>\n",
              "      <td>5.3970</td>\n",
              "      <td>0</td>\n",
              "      <td>0</td>\n",
              "      <td>0</td>\n",
              "      <td>1</td>\n",
              "      <td>0</td>\n",
              "    </tr>\n",
              "  </tbody>\n",
              "</table>\n",
              "<p>5383 rows × 13 columns</p>\n",
              "</div>\n",
              "    <div class=\"colab-df-buttons\">\n",
              "\n",
              "  <div class=\"colab-df-container\">\n",
              "    <button class=\"colab-df-convert\" onclick=\"convertToInteractive('df-ee748ef9-af00-409d-abc6-7dbdf795758b')\"\n",
              "            title=\"Convert this dataframe to an interactive table.\"\n",
              "            style=\"display:none;\">\n",
              "\n",
              "  <svg xmlns=\"http://www.w3.org/2000/svg\" height=\"24px\" viewBox=\"0 -960 960 960\">\n",
              "    <path d=\"M120-120v-720h720v720H120Zm60-500h600v-160H180v160Zm220 220h160v-160H400v160Zm0 220h160v-160H400v160ZM180-400h160v-160H180v160Zm440 0h160v-160H620v160ZM180-180h160v-160H180v160Zm440 0h160v-160H620v160Z\"/>\n",
              "  </svg>\n",
              "    </button>\n",
              "\n",
              "  <style>\n",
              "    .colab-df-container {\n",
              "      display:flex;\n",
              "      gap: 12px;\n",
              "    }\n",
              "\n",
              "    .colab-df-convert {\n",
              "      background-color: #E8F0FE;\n",
              "      border: none;\n",
              "      border-radius: 50%;\n",
              "      cursor: pointer;\n",
              "      display: none;\n",
              "      fill: #1967D2;\n",
              "      height: 32px;\n",
              "      padding: 0 0 0 0;\n",
              "      width: 32px;\n",
              "    }\n",
              "\n",
              "    .colab-df-convert:hover {\n",
              "      background-color: #E2EBFA;\n",
              "      box-shadow: 0px 1px 2px rgba(60, 64, 67, 0.3), 0px 1px 3px 1px rgba(60, 64, 67, 0.15);\n",
              "      fill: #174EA6;\n",
              "    }\n",
              "\n",
              "    .colab-df-buttons div {\n",
              "      margin-bottom: 4px;\n",
              "    }\n",
              "\n",
              "    [theme=dark] .colab-df-convert {\n",
              "      background-color: #3B4455;\n",
              "      fill: #D2E3FC;\n",
              "    }\n",
              "\n",
              "    [theme=dark] .colab-df-convert:hover {\n",
              "      background-color: #434B5C;\n",
              "      box-shadow: 0px 1px 3px 1px rgba(0, 0, 0, 0.15);\n",
              "      filter: drop-shadow(0px 1px 2px rgba(0, 0, 0, 0.3));\n",
              "      fill: #FFFFFF;\n",
              "    }\n",
              "  </style>\n",
              "\n",
              "    <script>\n",
              "      const buttonEl =\n",
              "        document.querySelector('#df-ee748ef9-af00-409d-abc6-7dbdf795758b button.colab-df-convert');\n",
              "      buttonEl.style.display =\n",
              "        google.colab.kernel.accessAllowed ? 'block' : 'none';\n",
              "\n",
              "      async function convertToInteractive(key) {\n",
              "        const element = document.querySelector('#df-ee748ef9-af00-409d-abc6-7dbdf795758b');\n",
              "        const dataTable =\n",
              "          await google.colab.kernel.invokeFunction('convertToInteractive',\n",
              "                                                    [key], {});\n",
              "        if (!dataTable) return;\n",
              "\n",
              "        const docLinkHtml = 'Like what you see? Visit the ' +\n",
              "          '<a target=\"_blank\" href=https://colab.research.google.com/notebooks/data_table.ipynb>data table notebook</a>'\n",
              "          + ' to learn more about interactive tables.';\n",
              "        element.innerHTML = '';\n",
              "        dataTable['output_type'] = 'display_data';\n",
              "        await google.colab.output.renderOutput(dataTable, element);\n",
              "        const docLink = document.createElement('div');\n",
              "        docLink.innerHTML = docLinkHtml;\n",
              "        element.appendChild(docLink);\n",
              "      }\n",
              "    </script>\n",
              "  </div>\n",
              "\n",
              "\n",
              "<div id=\"df-f931f295-0901-4d6f-8fcb-21b3fbf64aca\">\n",
              "  <button class=\"colab-df-quickchart\" onclick=\"quickchart('df-f931f295-0901-4d6f-8fcb-21b3fbf64aca')\"\n",
              "            title=\"Suggest charts\"\n",
              "            style=\"display:none;\">\n",
              "\n",
              "<svg xmlns=\"http://www.w3.org/2000/svg\" height=\"24px\"viewBox=\"0 0 24 24\"\n",
              "     width=\"24px\">\n",
              "    <g>\n",
              "        <path d=\"M19 3H5c-1.1 0-2 .9-2 2v14c0 1.1.9 2 2 2h14c1.1 0 2-.9 2-2V5c0-1.1-.9-2-2-2zM9 17H7v-7h2v7zm4 0h-2V7h2v10zm4 0h-2v-4h2v4z\"/>\n",
              "    </g>\n",
              "</svg>\n",
              "  </button>\n",
              "\n",
              "<style>\n",
              "  .colab-df-quickchart {\n",
              "      --bg-color: #E8F0FE;\n",
              "      --fill-color: #1967D2;\n",
              "      --hover-bg-color: #E2EBFA;\n",
              "      --hover-fill-color: #174EA6;\n",
              "      --disabled-fill-color: #AAA;\n",
              "      --disabled-bg-color: #DDD;\n",
              "  }\n",
              "\n",
              "  [theme=dark] .colab-df-quickchart {\n",
              "      --bg-color: #3B4455;\n",
              "      --fill-color: #D2E3FC;\n",
              "      --hover-bg-color: #434B5C;\n",
              "      --hover-fill-color: #FFFFFF;\n",
              "      --disabled-bg-color: #3B4455;\n",
              "      --disabled-fill-color: #666;\n",
              "  }\n",
              "\n",
              "  .colab-df-quickchart {\n",
              "    background-color: var(--bg-color);\n",
              "    border: none;\n",
              "    border-radius: 50%;\n",
              "    cursor: pointer;\n",
              "    display: none;\n",
              "    fill: var(--fill-color);\n",
              "    height: 32px;\n",
              "    padding: 0;\n",
              "    width: 32px;\n",
              "  }\n",
              "\n",
              "  .colab-df-quickchart:hover {\n",
              "    background-color: var(--hover-bg-color);\n",
              "    box-shadow: 0 1px 2px rgba(60, 64, 67, 0.3), 0 1px 3px 1px rgba(60, 64, 67, 0.15);\n",
              "    fill: var(--button-hover-fill-color);\n",
              "  }\n",
              "\n",
              "  .colab-df-quickchart-complete:disabled,\n",
              "  .colab-df-quickchart-complete:disabled:hover {\n",
              "    background-color: var(--disabled-bg-color);\n",
              "    fill: var(--disabled-fill-color);\n",
              "    box-shadow: none;\n",
              "  }\n",
              "\n",
              "  .colab-df-spinner {\n",
              "    border: 2px solid var(--fill-color);\n",
              "    border-color: transparent;\n",
              "    border-bottom-color: var(--fill-color);\n",
              "    animation:\n",
              "      spin 1s steps(1) infinite;\n",
              "  }\n",
              "\n",
              "  @keyframes spin {\n",
              "    0% {\n",
              "      border-color: transparent;\n",
              "      border-bottom-color: var(--fill-color);\n",
              "      border-left-color: var(--fill-color);\n",
              "    }\n",
              "    20% {\n",
              "      border-color: transparent;\n",
              "      border-left-color: var(--fill-color);\n",
              "      border-top-color: var(--fill-color);\n",
              "    }\n",
              "    30% {\n",
              "      border-color: transparent;\n",
              "      border-left-color: var(--fill-color);\n",
              "      border-top-color: var(--fill-color);\n",
              "      border-right-color: var(--fill-color);\n",
              "    }\n",
              "    40% {\n",
              "      border-color: transparent;\n",
              "      border-right-color: var(--fill-color);\n",
              "      border-top-color: var(--fill-color);\n",
              "    }\n",
              "    60% {\n",
              "      border-color: transparent;\n",
              "      border-right-color: var(--fill-color);\n",
              "    }\n",
              "    80% {\n",
              "      border-color: transparent;\n",
              "      border-right-color: var(--fill-color);\n",
              "      border-bottom-color: var(--fill-color);\n",
              "    }\n",
              "    90% {\n",
              "      border-color: transparent;\n",
              "      border-bottom-color: var(--fill-color);\n",
              "    }\n",
              "  }\n",
              "</style>\n",
              "\n",
              "  <script>\n",
              "    async function quickchart(key) {\n",
              "      const quickchartButtonEl =\n",
              "        document.querySelector('#' + key + ' button');\n",
              "      quickchartButtonEl.disabled = true;  // To prevent multiple clicks.\n",
              "      quickchartButtonEl.classList.add('colab-df-spinner');\n",
              "      try {\n",
              "        const charts = await google.colab.kernel.invokeFunction(\n",
              "            'suggestCharts', [key], {});\n",
              "      } catch (error) {\n",
              "        console.error('Error during call to suggestCharts:', error);\n",
              "      }\n",
              "      quickchartButtonEl.classList.remove('colab-df-spinner');\n",
              "      quickchartButtonEl.classList.add('colab-df-quickchart-complete');\n",
              "    }\n",
              "    (() => {\n",
              "      let quickchartButtonEl =\n",
              "        document.querySelector('#df-f931f295-0901-4d6f-8fcb-21b3fbf64aca button');\n",
              "      quickchartButtonEl.style.display =\n",
              "        google.colab.kernel.accessAllowed ? 'block' : 'none';\n",
              "    })();\n",
              "  </script>\n",
              "</div>\n",
              "\n",
              "  <div id=\"id_71f5a93d-ed43-4fd6-8e00-7bdbb59ba249\">\n",
              "    <style>\n",
              "      .colab-df-generate {\n",
              "        background-color: #E8F0FE;\n",
              "        border: none;\n",
              "        border-radius: 50%;\n",
              "        cursor: pointer;\n",
              "        display: none;\n",
              "        fill: #1967D2;\n",
              "        height: 32px;\n",
              "        padding: 0 0 0 0;\n",
              "        width: 32px;\n",
              "      }\n",
              "\n",
              "      .colab-df-generate:hover {\n",
              "        background-color: #E2EBFA;\n",
              "        box-shadow: 0px 1px 2px rgba(60, 64, 67, 0.3), 0px 1px 3px 1px rgba(60, 64, 67, 0.15);\n",
              "        fill: #174EA6;\n",
              "      }\n",
              "\n",
              "      [theme=dark] .colab-df-generate {\n",
              "        background-color: #3B4455;\n",
              "        fill: #D2E3FC;\n",
              "      }\n",
              "\n",
              "      [theme=dark] .colab-df-generate:hover {\n",
              "        background-color: #434B5C;\n",
              "        box-shadow: 0px 1px 3px 1px rgba(0, 0, 0, 0.15);\n",
              "        filter: drop-shadow(0px 1px 2px rgba(0, 0, 0, 0.3));\n",
              "        fill: #FFFFFF;\n",
              "      }\n",
              "    </style>\n",
              "    <button class=\"colab-df-generate\" onclick=\"generateWithVariable('X_test')\"\n",
              "            title=\"Generate code using this dataframe.\"\n",
              "            style=\"display:none;\">\n",
              "\n",
              "  <svg xmlns=\"http://www.w3.org/2000/svg\" height=\"24px\"viewBox=\"0 0 24 24\"\n",
              "       width=\"24px\">\n",
              "    <path d=\"M7,19H8.4L18.45,9,17,7.55,7,17.6ZM5,21V16.75L18.45,3.32a2,2,0,0,1,2.83,0l1.4,1.43a1.91,1.91,0,0,1,.58,1.4,1.91,1.91,0,0,1-.58,1.4L9.25,21ZM18.45,9,17,7.55Zm-12,3A5.31,5.31,0,0,0,4.9,8.1,5.31,5.31,0,0,0,1,6.5,5.31,5.31,0,0,0,4.9,4.9,5.31,5.31,0,0,0,6.5,1,5.31,5.31,0,0,0,8.1,4.9,5.31,5.31,0,0,0,12,6.5,5.46,5.46,0,0,0,6.5,12Z\"/>\n",
              "  </svg>\n",
              "    </button>\n",
              "    <script>\n",
              "      (() => {\n",
              "      const buttonEl =\n",
              "        document.querySelector('#id_71f5a93d-ed43-4fd6-8e00-7bdbb59ba249 button.colab-df-generate');\n",
              "      buttonEl.style.display =\n",
              "        google.colab.kernel.accessAllowed ? 'block' : 'none';\n",
              "\n",
              "      buttonEl.onclick = () => {\n",
              "        google.colab.notebook.generateWithVariable('X_test');\n",
              "      }\n",
              "      })();\n",
              "    </script>\n",
              "  </div>\n",
              "\n",
              "    </div>\n",
              "  </div>\n"
            ],
            "text/plain": [
              "       longitude  latitude  housing_median_age  total_rooms  total_bedrooms  \\\n",
              "13589    -117.30     34.12                50.0       1629.0           437.0   \n",
              "19849    -119.27     36.39                17.0       2076.0           350.0   \n",
              "7868     -118.12     33.88                40.0       2344.0           571.0   \n",
              "13071    -121.31     38.57                 9.0       2748.0           521.0   \n",
              "8863     -118.38     34.06                52.0       1311.0           217.0   \n",
              "...          ...       ...                 ...          ...             ...   \n",
              "18557    -122.01     36.91                19.0        691.0           191.0   \n",
              "2537     -122.01     39.74                20.0       2332.0           518.0   \n",
              "766      -122.10     37.66                33.0       1954.0           464.0   \n",
              "17628    -121.92     37.26                33.0       1306.0           259.0   \n",
              "17114    -122.16     37.47                44.0       2581.0           437.0   \n",
              "\n",
              "       population  households  median_income  ocean_proximity_<1H OCEAN  \\\n",
              "13589      1581.0       394.0         2.2019                          0   \n",
              "19849       998.0       340.0         4.3281                          0   \n",
              "7868       1305.0       544.0         3.1923                          1   \n",
              "13071      1663.0       565.0         3.5192                          0   \n",
              "8863        578.0       205.0         7.6771                          1   \n",
              "...           ...         ...            ...                        ...   \n",
              "18557       324.0       167.0         3.1312                          0   \n",
              "2537       1856.0       495.0         2.1746                          0   \n",
              "766        1293.0       448.0         3.0489                          0   \n",
              "17628       762.0       237.0         4.5208                          1   \n",
              "17114      1006.0       414.0         5.3970                          0   \n",
              "\n",
              "       ocean_proximity_INLAND  ocean_proximity_ISLAND  \\\n",
              "13589                       1                       0   \n",
              "19849                       1                       0   \n",
              "7868                        0                       0   \n",
              "13071                       1                       0   \n",
              "8863                        0                       0   \n",
              "...                       ...                     ...   \n",
              "18557                       0                       0   \n",
              "2537                        1                       0   \n",
              "766                         0                       0   \n",
              "17628                       0                       0   \n",
              "17114                       0                       0   \n",
              "\n",
              "       ocean_proximity_NEAR BAY  ocean_proximity_NEAR OCEAN  \n",
              "13589                         0                           0  \n",
              "19849                         0                           0  \n",
              "7868                          0                           0  \n",
              "13071                         0                           0  \n",
              "8863                          0                           0  \n",
              "...                         ...                         ...  \n",
              "18557                         0                           1  \n",
              "2537                          0                           0  \n",
              "766                           1                           0  \n",
              "17628                         0                           0  \n",
              "17114                         1                           0  \n",
              "\n",
              "[5383 rows x 13 columns]"
            ]
          },
          "execution_count": 91,
          "metadata": {},
          "output_type": "execute_result"
        }
      ],
      "source": [
        "X_test"
      ]
    },
    {
      "cell_type": "code",
      "execution_count": null,
      "metadata": {
        "colab": {
          "base_uri": "https://localhost:8080/"
        },
        "id": "Nm1A9obyA924",
        "outputId": "822db456-c51c-4b93-c1ec-99b1a00bacfb"
      },
      "outputs": [
        {
          "data": {
            "text/plain": [
              "13589     63500.0\n",
              "19849    145700.0\n",
              "7868     191900.0\n",
              "13071    113300.0\n",
              "8863     500001.0\n",
              "           ...   \n",
              "18557    388500.0\n",
              "2537      58700.0\n",
              "766      152600.0\n",
              "17628    230700.0\n",
              "17114    341700.0\n",
              "Name: median_house_value, Length: 5383, dtype: float64"
            ]
          },
          "execution_count": 92,
          "metadata": {},
          "output_type": "execute_result"
        }
      ],
      "source": [
        "y_test"
      ]
    },
    {
      "cell_type": "code",
      "execution_count": null,
      "metadata": {
        "colab": {
          "base_uri": "https://localhost:8080/"
        },
        "id": "G-1dWPBpBGg3",
        "outputId": "e40000f6-9b98-4477-e28f-ec9fb1a9277b"
      },
      "outputs": [
        {
          "name": "stdout",
          "output_type": "stream",
          "text": [
            "El ile Tahmin Edilen Değer: 322591.34\n"
          ]
        }
      ],
      "source": [
        "\n",
        "test_example = X_train.iloc[1:2]\n",
        "\n",
        "\n",
        "prediction = rf_model.predict(test_example)\n",
        "\n",
        "print(\"El ile Tahmin Edilen Değer:\", prediction[0])"
      ]
    },
    {
      "cell_type": "code",
      "execution_count": null,
      "metadata": {
        "colab": {
          "base_uri": "https://localhost:8080/"
        },
        "id": "ijA6v3nzBhQz",
        "outputId": "e26b3f6c-4f42-4dbc-f245-ff932204d308"
      },
      "outputs": [
        {
          "data": {
            "text/plain": [
              "4414     174300.0\n",
              "7892     344700.0\n",
              "16429    186900.0\n",
              "3786     194100.0\n",
              "539      102200.0\n",
              "           ...   \n",
              "12982    119800.0\n",
              "13815     98500.0\n",
              "6130     147200.0\n",
              "950      213800.0\n",
              "18211     40000.0\n",
              "Name: median_house_value, Length: 12558, dtype: float64"
            ]
          },
          "execution_count": 95,
          "metadata": {},
          "output_type": "execute_result"
        }
      ],
      "source": [
        "y_train"
      ]
    },
    {
      "cell_type": "code",
      "execution_count": null,
      "metadata": {
        "colab": {
          "background_save": true
        },
        "id": "ApE-nOFYBi0U",
        "outputId": "8b90fbe5-12fc-43f5-ebaa-c84700d2170f"
      },
      "outputs": [
        {
          "name": "stdout",
          "output_type": "stream",
          "text": [
            "En iyi parametreler: {'max_depth': None, 'min_samples_leaf': 2, 'min_samples_split': 2, 'n_estimators': 200}\n"
          ]
        },
        {
          "ename": "NameError",
          "evalue": "name 'mean_absolute_error' is not defined",
          "output_type": "error",
          "traceback": [
            "\u001b[0;31m---------------------------------------------------------------------------\u001b[0m",
            "\u001b[0;31mNameError\u001b[0m                                 Traceback (most recent call last)",
            "\u001b[0;32m<ipython-input-18-72e89ef027f0>\u001b[0m in \u001b[0;36m<cell line: 61>\u001b[0;34m()\u001b[0m\n\u001b[1;32m     59\u001b[0m \u001b[0;34m\u001b[0m\u001b[0m\n\u001b[1;32m     60\u001b[0m \u001b[0;31m# Cross-validation skorları al\u001b[0m\u001b[0;34m\u001b[0m\u001b[0;34m\u001b[0m\u001b[0m\n\u001b[0;32m---> 61\u001b[0;31m \u001b[0mtrain_scores_rf\u001b[0m\u001b[0;34m,\u001b[0m \u001b[0mtest_scores_rf\u001b[0m\u001b[0;34m,\u001b[0m \u001b[0mtrain_maes_rf\u001b[0m\u001b[0;34m,\u001b[0m \u001b[0mtest_maes_rf\u001b[0m \u001b[0;34m=\u001b[0m \u001b[0mget_cross_val_scores\u001b[0m\u001b[0;34m(\u001b[0m\u001b[0mbest_rf_model\u001b[0m\u001b[0;34m,\u001b[0m \u001b[0mX\u001b[0m\u001b[0;34m,\u001b[0m \u001b[0my\u001b[0m\u001b[0;34m,\u001b[0m \u001b[0mkf\u001b[0m\u001b[0;34m)\u001b[0m\u001b[0;34m\u001b[0m\u001b[0;34m\u001b[0m\u001b[0m\n\u001b[0m\u001b[1;32m     62\u001b[0m \u001b[0;34m\u001b[0m\u001b[0m\n\u001b[1;32m     63\u001b[0m \u001b[0;31m# Grafik oluşturma\u001b[0m\u001b[0;34m\u001b[0m\u001b[0;34m\u001b[0m\u001b[0m\n",
            "\u001b[0;32m<ipython-input-18-72e89ef027f0>\u001b[0m in \u001b[0;36mget_cross_val_scores\u001b[0;34m(model, X, y, cv)\u001b[0m\n\u001b[1;32m     25\u001b[0m         \u001b[0mtest_score\u001b[0m \u001b[0;34m=\u001b[0m \u001b[0mmodel\u001b[0m\u001b[0;34m.\u001b[0m\u001b[0mscore\u001b[0m\u001b[0;34m(\u001b[0m\u001b[0mX_test\u001b[0m\u001b[0;34m,\u001b[0m \u001b[0my_test\u001b[0m\u001b[0;34m)\u001b[0m\u001b[0;34m\u001b[0m\u001b[0;34m\u001b[0m\u001b[0m\n\u001b[1;32m     26\u001b[0m \u001b[0;34m\u001b[0m\u001b[0m\n\u001b[0;32m---> 27\u001b[0;31m         \u001b[0mtrain_mae\u001b[0m \u001b[0;34m=\u001b[0m \u001b[0mmean_absolute_error\u001b[0m\u001b[0;34m(\u001b[0m\u001b[0my_train\u001b[0m\u001b[0;34m,\u001b[0m \u001b[0mmodel\u001b[0m\u001b[0;34m.\u001b[0m\u001b[0mpredict\u001b[0m\u001b[0;34m(\u001b[0m\u001b[0mX_train\u001b[0m\u001b[0;34m)\u001b[0m\u001b[0;34m)\u001b[0m\u001b[0;34m\u001b[0m\u001b[0;34m\u001b[0m\u001b[0m\n\u001b[0m\u001b[1;32m     28\u001b[0m         \u001b[0mtest_mae\u001b[0m \u001b[0;34m=\u001b[0m \u001b[0mmean_absolute_error\u001b[0m\u001b[0;34m(\u001b[0m\u001b[0my_test\u001b[0m\u001b[0;34m,\u001b[0m \u001b[0mmodel\u001b[0m\u001b[0;34m.\u001b[0m\u001b[0mpredict\u001b[0m\u001b[0;34m(\u001b[0m\u001b[0mX_test\u001b[0m\u001b[0;34m)\u001b[0m\u001b[0;34m)\u001b[0m\u001b[0;34m\u001b[0m\u001b[0;34m\u001b[0m\u001b[0m\n\u001b[1;32m     29\u001b[0m \u001b[0;34m\u001b[0m\u001b[0m\n",
            "\u001b[0;31mNameError\u001b[0m: name 'mean_absolute_error' is not defined"
          ]
        }
      ],
      "source": [
        "from sklearn.model_selection import GridSearchCV\n",
        "from sklearn.ensemble import RandomForestRegressor\n",
        "import matplotlib.pyplot as plt\n",
        "from sklearn.model_selection import train_test_split, cross_val_score, KFold\n",
        "\n",
        "kf = KFold(n_splits=5, shuffle=True, random_state=42)\n",
        "\n",
        "\n",
        "#rf_model = RandomForestRegressor(n_estimators=150, random_state=42)\n",
        "\n",
        "# Cross-validation skorlarını almak için bir fonksiyon\n",
        "def get_cross_val_scores(model, X, y, cv):\n",
        "    train_scores = []\n",
        "    test_scores = []\n",
        "    train_maes = []\n",
        "    test_maes = []\n",
        "\n",
        "    for train_index, test_index in cv.split(X):\n",
        "        X_train, X_test = X.iloc[train_index], X.iloc[test_index]\n",
        "        y_train, y_test = y.iloc[train_index], y.iloc[test_index]\n",
        "\n",
        "        model.fit(X_train, y_train)\n",
        "\n",
        "        train_score = model.score(X_train, y_train)\n",
        "        test_score = model.score(X_test, y_test)\n",
        "\n",
        "        train_mae = mean_absolute_error(y_train, model.predict(X_train))\n",
        "        test_mae = mean_absolute_error(y_test, model.predict(X_test))\n",
        "\n",
        "        train_scores.append(train_score)\n",
        "        test_scores.append(test_score)\n",
        "        train_maes.append(train_mae)\n",
        "        test_maes.append(test_mae)\n",
        "\n",
        "    return train_scores, test_scores, train_maes, test_maes\n",
        "# Parametrelerin bir grid'i tanımlanır\n",
        "param_grid = {\n",
        "    'n_estimators': [50, 100, 150, 200],\n",
        "    'max_depth': [None, 10, 20, 30],\n",
        "    'min_samples_split': [2, 5, 10],\n",
        "    'min_samples_leaf': [1, 2, 4]\n",
        "}\n",
        "\n",
        "# RandomForestRegressor modeli oluşturulur\n",
        "rf_model = RandomForestRegressor(random_state=42)\n",
        "\n",
        "# GridSearchCV objesi oluşturulur\n",
        "grid_search = GridSearchCV(estimator=rf_model, param_grid=param_grid, cv=kf, scoring='r2', n_jobs=-1)\n",
        "\n",
        "# Grid Search uygulanır\n",
        "grid_search.fit(X, y)\n",
        "\n",
        "# En iyi parametreler\n",
        "best_params = grid_search.best_params_\n",
        "print(\"En iyi parametreler:\", best_params)\n",
        "\n",
        "# En iyi model\n",
        "best_rf_model = grid_search.best_estimator_\n",
        "\n",
        "# Cross-validation skorları al\n",
        "train_scores_rf, test_scores_rf, train_maes_rf, test_maes_rf = get_cross_val_scores(best_rf_model, X, y, kf)\n",
        "\n",
        "# Grafik oluşturma\n",
        "plt.figure(figsize=(12, 8))\n",
        "\n",
        "# R^2 Skorları\n",
        "plt.subplot(2, 1, 1)\n",
        "plt.plot(range(1, 6), train_scores_rf, marker='o', label='R^2 Eğitim Skoru', color='blue')\n",
        "plt.plot(range(1, 6), test_scores_rf, marker='o', label='R^2 Test Skoru', color='green')\n",
        "plt.title('Random Forest - R^2 Eğitim ve Test Skorları')\n",
        "plt.xlabel('Fold')\n",
        "plt.ylabel('R^2 Skoru')\n",
        "plt.legend()\n",
        "\n",
        "# MAE Skorları\n",
        "plt.subplot(2, 1, 2)\n",
        "plt.plot(range(1, 6), train_maes_rf, marker='o', label='MAE Eğitim Skoru', color='blue')\n",
        "plt.plot(range(1, 6), test_maes_rf, marker='o', label='MAE Test Skoru', color='green')\n",
        "plt.title('Random Forest - MAE Eğitim ve Test Skorları')\n",
        "plt.xlabel('Fold')\n",
        "plt.ylabel('MAE Skoru')\n",
        "plt.legend()\n",
        "\n",
        "plt.tight_layout()\n",
        "plt.show()\n"
      ]
    },
    {
      "cell_type": "code",
      "execution_count": null,
      "metadata": {
        "id": "PT-7cOJjwOkX",
        "colab": {
          "base_uri": "https://localhost:8080/"
        },
        "outputId": "5eb08e95-dd21-4d37-d15c-8a7f34b2c11c"
      },
      "outputs": [
        {
          "output_type": "stream",
          "name": "stdout",
          "text": [
            "En iyi parametreler: {'max_depth': 30, 'min_samples_leaf': 2, 'min_samples_split': 2, 'n_estimators': 200}\n",
            "Test seti MAE: 33002.380909561085\n"
          ]
        }
      ],
      "source": [
        "from sklearn.model_selection import GridSearchCV\n",
        "from sklearn.ensemble import RandomForestRegressor\n",
        "import matplotlib.pyplot as plt\n",
        "from sklearn.model_selection import train_test_split, cross_val_score, KFold\n",
        "from sklearn.metrics import mean_absolute_error\n",
        "\n",
        "# RandomForestRegressor modelini oluşturun\n",
        "rf_model = RandomForestRegressor(random_state=42)\n",
        "\n",
        "# Parametrelerin bir grid'i tanımlanır\n",
        "param_grid = {\n",
        "    'n_estimators': [50, 100, 150, 200],\n",
        "    'max_depth': [None, 10, 20, 30],\n",
        "    'min_samples_split': [2, 5, 10],\n",
        "    'min_samples_leaf': [1, 2, 4]\n",
        "}\n",
        "\n",
        "# GridSearchCV objesi oluşturulur\n",
        "grid_search = GridSearchCV(estimator=rf_model, param_grid=param_grid, scoring='neg_mean_absolute_error', n_jobs=-1)\n",
        "\n",
        "# Grid Search uygulanır\n",
        "grid_search.fit(X_train, y_train)\n",
        "\n",
        "# En iyi parametreler\n",
        "best_params = grid_search.best_params_\n",
        "print(\"En iyi parametreler:\", best_params)\n",
        "\n",
        "# En iyi model\n",
        "best_rf_model = grid_search.best_estimator_\n",
        "\n",
        "# Test setinde performansı değerlendirin\n",
        "y_pred = best_rf_model.predict(X_test)\n",
        "test_mae = mean_absolute_error(y_test, y_pred)\n",
        "print(\"Test seti MAE:\", test_mae)"
      ]
    },
    {
      "cell_type": "code",
      "source": [],
      "metadata": {
        "id": "MfK4z4E9Yszw"
      },
      "execution_count": null,
      "outputs": []
    }
  ],
  "metadata": {
    "colab": {
      "provenance": [],
      "mount_file_id": "1aiRbt5SZPqiJU2fGEEO2hxo_RlLzMjQ5",
      "authorship_tag": "ABX9TyNDXrP9t1dG0RV5G22VIxA7",
      "include_colab_link": true
    },
    "kernelspec": {
      "display_name": "Python 3",
      "name": "python3"
    },
    "language_info": {
      "name": "python"
    }
  },
  "nbformat": 4,
  "nbformat_minor": 0
}